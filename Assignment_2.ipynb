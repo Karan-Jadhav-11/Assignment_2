{
 "cells": [
  {
   "cell_type": "markdown",
   "id": "938bc708-156e-4bc2-a0e1-95a822a653d3",
   "metadata": {},
   "source": [
    "#Assignment 2"
   ]
  },
  {
   "cell_type": "markdown",
   "id": "a67312bf-07e3-4bbd-8cc7-811bcfc9fd76",
   "metadata": {},
   "source": [
    "1. Write a program to accept percentage from the user and display the grade according to the following \n",
    "criteria:\n",
    "Marks                      Grade\n",
    " >90                         A\n",
    ">80 and <=90                 B\n",
    ">=60 and <=80                C\n",
    "below 60                     D"
   ]
  },
  {
   "cell_type": "code",
   "execution_count": 4,
   "id": "1b903d6c-55d2-4fdf-ba4d-05c06b2c1489",
   "metadata": {},
   "outputs": [
    {
     "name": "stdout",
     "output_type": "stream",
     "text": [
      "enter the persetage of student\n"
     ]
    },
    {
     "name": "stdin",
     "output_type": "stream",
     "text": [
      " 83\n"
     ]
    },
    {
     "name": "stdout",
     "output_type": "stream",
     "text": [
      "Student gtade is : B \n"
     ]
    }
   ],
   "source": [
    "print(\"enter the persetage of student\")\n",
    "n=int(input())\n",
    "if(n>90):\n",
    "    print(\"Student  grade is : A \")\n",
    "elif(90>=n>80):\n",
    "     print(\"Student grade is : B \")\n",
    "elif(80>=n>60):\n",
    "     print(\"Student grade is : C\")\n",
    "else:\n",
    "    print(\"Studade is : D\")\n",
    "        "
   ]
  },
  {
   "cell_type": "markdown",
   "id": "5538a361-23c9-41d9-9727-1611e9875092",
   "metadata": {},
   "source": [
    "2. Write a program to accept the cost price of a bike and display the road tax to be paid according to the \n",
    "following criteria: \n",
    "\n",
    "Tax                  Cost price(in RS)\n",
    "15%                   >100000\n",
    "10%                   >50000 and <=100000\n",
    "5%                    <=5000"
   ]
  },
  {
   "cell_type": "code",
   "execution_count": 3,
   "id": "5a2043e1-881b-4452-9a3b-fcdc41f1bc8e",
   "metadata": {},
   "outputs": [
    {
     "name": "stdout",
     "output_type": "stream",
     "text": [
      "enter the price of bike \n"
     ]
    },
    {
     "name": "stdin",
     "output_type": "stream",
     "text": [
      " 120000\n"
     ]
    },
    {
     "name": "stdout",
     "output_type": "stream",
     "text": [
      "you have to pay rod tax 15%\n"
     ]
    }
   ],
   "source": [
    "print(\"enter the price of bike \")\n",
    "price=int(input())\n",
    "if(price > 100000):\n",
    "    print(\"you have to pay rod tax 15%\")\n",
    "elif(100000 >= price >50000):\n",
    "    print(\"you have to pay rod tax 10%\")\n",
    "else:\n",
    "    print(\"you have to pay rod tax 5%\")\n"
   ]
  },
  {
   "cell_type": "markdown",
   "id": "db812584-90f8-4990-bd04-9bc54bdaf6d5",
   "metadata": {},
   "source": [
    "3. Accept any city from the user and display monuments of that city. \n",
    "\n",
    "City            Monument\n",
    "Delhi           Red fort\n",
    "Agra            Taj Mahal\n",
    "Jaipur          Jal mahal"
   ]
  },
  {
   "cell_type": "code",
   "execution_count": 6,
   "id": "78a5dcfd-27c6-4820-a75d-00a26c0a71b3",
   "metadata": {},
   "outputs": [
    {
     "name": "stdout",
     "output_type": "stream",
     "text": [
      "Enter the city name to get name of monument\n"
     ]
    },
    {
     "name": "stdin",
     "output_type": "stream",
     "text": [
      " Jaipur\n"
     ]
    },
    {
     "name": "stdout",
     "output_type": "stream",
     "text": [
      "the monument in Jaipur is Jal Mahal\n"
     ]
    }
   ],
   "source": [
    "print(\"Enter the city name to get name of monument\")\n",
    "city=str(input())\n",
    "if(city==\"Delhi\"):\n",
    "    print(\"the monument in Delhi is Rd Fort\")\n",
    "elif(city==\"Agra \"):\n",
    "    print(\"the monument in Agra is Taj Mahal\")\n",
    "elif(city==\"Jaipur\"):\n",
    "    print(\"the monument in Jaipur is Jal Mahal\")\n",
    "else:\n",
    "    print(\"for inter city no monument name avalable\")\n"
   ]
  },
  {
   "cell_type": "code",
   "execution_count": null,
   "id": "eab5ac53-1ccf-42f6-92bf-15195fc80b88",
   "metadata": {},
   "outputs": [],
   "source": []
  },
  {
   "cell_type": "markdown",
   "id": "82fe9228-e2c3-434b-9239-3703bf41f2d8",
   "metadata": {},
   "source": [
    "4. Check how many times a given number can be divided by 3 before it is less than or equal to 10."
   ]
  },
  {
   "cell_type": "code",
   "execution_count": 6,
   "id": "eed2ae1f-8324-4c25-801a-4016f9a2d0c8",
   "metadata": {},
   "outputs": [
    {
     "name": "stdout",
     "output_type": "stream",
     "text": [
      "Enter the number x \n"
     ]
    },
    {
     "name": "stdin",
     "output_type": "stream",
     "text": [
      " 1000\n"
     ]
    },
    {
     "name": "stdout",
     "output_type": "stream",
     "text": [
      "5\n"
     ]
    }
   ],
   "source": [
    "\n",
    "print(\"Enter the number x \")\n",
    "x=int(input())\n",
    "def count_division(x):\n",
    "    count=0\n",
    "    while x>10:\n",
    "        x=x/3\n",
    "        count+=1\n",
    "    return count\n",
    "\n",
    "result=count_division(x)\n",
    "print(result)"
   ]
  },
  {
   "cell_type": "markdown",
   "id": "75465ec2-919f-4f41-8411-cd5d82a58863",
   "metadata": {},
   "source": [
    "5. Why and When to Use while Loop in Python give a detailed description with example \n",
    "\n",
    "ANS: \n",
    "    A while loop in Python is used to repeatedly execute a block of code as long as a specified condition is true. We would use the while loop when you need to execute a block of code multiple times, provided a certain condition is met.It allows the program to keep executing a block of code until a specific condition is no longer true.\n",
    "    while loop is used when we need to exucute the block of code number of time. It iterate the block code untile the \"While\" loop condition is becomes false.\n",
    "     syntax:\n",
    "         while condition:\n",
    "    \n",
    " Example:"
   ]
  },
  {
   "cell_type": "code",
   "execution_count": 1,
   "id": "02919f20-d99e-4bb6-929d-669efb2f7c13",
   "metadata": {},
   "outputs": [
    {
     "name": "stdout",
     "output_type": "stream",
     "text": [
      "1\n",
      "2\n",
      "3\n",
      "4\n",
      "5\n"
     ]
    }
   ],
   "source": [
    "#An example of a simple while loop that prints numbers from 1 to 5:\n",
    "number = 1\n",
    "while number <= 5:\n",
    "    print(number)\n",
    "    number += 1"
   ]
  },
  {
   "cell_type": "markdown",
   "id": "7f5ae624-3283-4535-8918-1b18c91c7625",
   "metadata": {},
   "source": [
    "6. Use nested while loop to print 3 different pattern"
   ]
  },
  {
   "cell_type": "code",
   "execution_count": 8,
   "id": "f67e6d3f-b487-4c81-bd16-4fa2c878eac5",
   "metadata": {},
   "outputs": [
    {
     "name": "stdin",
     "output_type": "stream",
     "text": [
      " 5\n"
     ]
    },
    {
     "name": "stdout",
     "output_type": "stream",
     "text": [
      "* * * * * \n",
      "* * * * * \n",
      "* * * * * \n",
      "* * * * * \n",
      "* * * * * \n"
     ]
    }
   ],
   "source": [
    "# 1. printing the square pattern \n",
    "\n",
    "print(\"enter the number of star \")\n",
    "n=int(input())\n",
    "i=0\n",
    "while i<n:\n",
    "    j=0\n",
    "    while j<n:\n",
    "        print(\"*\",end=' ')\n",
    "        j+=1\n",
    "    print()\n",
    "    i+=1\n",
    "    \n",
    "    "
   ]
  },
  {
   "cell_type": "code",
   "execution_count": 12,
   "id": "bb7e62d3-3f57-4222-b324-6c54a20bca9e",
   "metadata": {},
   "outputs": [
    {
     "name": "stdout",
     "output_type": "stream",
     "text": [
      "Enter the number \n"
     ]
    },
    {
     "name": "stdin",
     "output_type": "stream",
     "text": [
      " 5\n"
     ]
    },
    {
     "name": "stdout",
     "output_type": "stream",
     "text": [
      "* \n",
      "* * \n",
      "* * * \n",
      "* * * * \n",
      "* * * * * \n"
     ]
    }
   ],
   "source": [
    "# 2. printing star pattern right triangle\n",
    "\n",
    "print(\"Enter the number \")\n",
    "n=int(input())\n",
    "i=0\n",
    "while i<n:\n",
    "    j=0\n",
    "    while j<=i:\n",
    "        print(\"*\",end=\" \")\n",
    "        j+=1\n",
    "    print()\n",
    "    i+=1"
   ]
  },
  {
   "cell_type": "code",
   "execution_count": 15,
   "id": "252471c4-427a-4fe0-84f2-354aec26b6c9",
   "metadata": {},
   "outputs": [
    {
     "name": "stdout",
     "output_type": "stream",
     "text": [
      "enter the number\n"
     ]
    },
    {
     "name": "stdin",
     "output_type": "stream",
     "text": [
      " 6\n"
     ]
    },
    {
     "name": "stdout",
     "output_type": "stream",
     "text": [
      "          *  \n",
      "        *  *  \n",
      "      *  *  *  \n",
      "    *  *  *  *  \n",
      "  *  *  *  *  *  \n",
      "*  *  *  *  *  *  \n"
     ]
    }
   ],
   "source": [
    "# printing full pyramide star pattern\n",
    "\n",
    "print(\"enter the number\")\n",
    "n=int(input())\n",
    "i = 1\n",
    "while i <=n:\n",
    "    # Print spaces\n",
    "    spaces = n - i\n",
    "    while spaces > 0:\n",
    "        print(\" \", end=' ')\n",
    "        spaces -= 1\n",
    "\n",
    "    # Print stars\n",
    "    j = 1\n",
    "    while j <= i:\n",
    "        print(\"* \", end=' ')\n",
    "        j += 1\n",
    "\n",
    "    print()\n",
    "    i += 1\n",
    "    "
   ]
  },
  {
   "cell_type": "raw",
   "id": "3dc691e1-63a5-4449-a447-ab7210235ba7",
   "metadata": {},
   "source": [
    "7. Reverse a while loop to display numbers from 10 to 1.\n"
   ]
  },
  {
   "cell_type": "code",
   "execution_count": 1,
   "id": "ea03b275-e706-4c65-b771-2fb8bb3ee84c",
   "metadata": {},
   "outputs": [
    {
     "name": "stdout",
     "output_type": "stream",
     "text": [
      "10\n",
      "9\n",
      "8\n",
      "7\n",
      "6\n",
      "5\n",
      "4\n",
      "3\n",
      "2\n",
      "1\n"
     ]
    }
   ],
   "source": [
    "number = 10\n",
    "while number >= 1:\n",
    "    print(number)\n",
    "    number -= 1"
   ]
  },
  {
   "cell_type": "code",
   "execution_count": null,
   "id": "c81e0f41-29f2-4d6f-9497-0d17072dc948",
   "metadata": {},
   "outputs": [],
   "source": []
  }
 ],
 "metadata": {
  "kernelspec": {
   "display_name": "Python 3 (ipykernel)",
   "language": "python",
   "name": "python3"
  },
  "language_info": {
   "codemirror_mode": {
    "name": "ipython",
    "version": 3
   },
   "file_extension": ".py",
   "mimetype": "text/x-python",
   "name": "python",
   "nbconvert_exporter": "python",
   "pygments_lexer": "ipython3",
   "version": "3.10.8"
  }
 },
 "nbformat": 4,
 "nbformat_minor": 5
}
